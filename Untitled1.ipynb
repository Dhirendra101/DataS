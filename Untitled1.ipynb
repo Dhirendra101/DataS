{
 "cells": [
  {
   "cell_type": "code",
   "execution_count": 1,
   "id": "b2b016be-1ade-4326-b174-e7823249636b",
   "metadata": {},
   "outputs": [
    {
     "name": "stdout",
     "output_type": "stream",
     "text": [
      "2.9.1\n"
     ]
    }
   ],
   "source": [
    "##import the required libraries and APIs\n",
    "import numpy as np\n",
    "import pandas as pd\n",
    "import tensorflow as tf\n",
    "import tensorflow_datasets as tfds\n",
    "from tensorflow.keras.preprocessing.text import Tokenizer\n",
    "from tensorflow.keras.preprocessing.sequence import pad_sequences\n",
    "from sklearn.model_selection import train_test_split\n",
    "from sklearn.preprocessing import OneHotEncoder\n",
    "print(tf.__version__)\n",
    "import matplotlib.pyplot as plt"
   ]
  },
  {
   "cell_type": "code",
   "execution_count": 2,
   "id": "7cbff41d-6e43-47b2-a301-a008847e5b5d",
   "metadata": {},
   "outputs": [],
   "source": [
    "dataset = pd.read_csv('BBC News Train.csv')"
   ]
  },
  {
   "cell_type": "code",
   "execution_count": 3,
   "id": "d7593a06-c568-4915-9ffa-64639b265d96",
   "metadata": {},
   "outputs": [],
   "source": [
    "News = dataset[\"Text\"].values\n",
    "labels = dataset[[\"Category\"]].values"
   ]
  },
  {
   "cell_type": "code",
   "execution_count": 4,
   "id": "a2a62f59-5d65-45ec-8663-c5d505b990fe",
   "metadata": {},
   "outputs": [
    {
     "data": {
      "text/plain": [
       "(numpy.ndarray, numpy.ndarray)"
      ]
     },
     "execution_count": 4,
     "metadata": {},
     "output_type": "execute_result"
    }
   ],
   "source": [
    "type(News), type(labels)"
   ]
  },
  {
   "cell_type": "code",
   "execution_count": 5,
   "id": "e141ea8a-61b7-408e-b90b-cfdef5a057e6",
   "metadata": {},
   "outputs": [
    {
     "name": "stdout",
     "output_type": "stream",
     "text": [
      "(1192,) (1192, 1)\n",
      "(298,) (298, 1)\n"
     ]
    }
   ],
   "source": [
    "X_train, X_test,y_train, y_test = train_test_split(News,labels, test_size = 0.20, random_state = 42)\n",
    "print(X_train.shape,y_train.shape)\n",
    "print(X_test.shape,y_test.shape)"
   ]
  },
  {
   "cell_type": "code",
   "execution_count": 6,
   "id": "982525eb-6339-4c63-b480-b49bb5d2500d",
   "metadata": {},
   "outputs": [],
   "source": [
    "##define the parameters for tokenizing and padding\n",
    "vocab_size = 10000\n",
    "embedding_dim = 32\n",
    "max_length = 200\n",
    "padding_type = 'post'\n",
    "trunc_type='post'\n",
    "oov_tok = \"<OOV>\""
   ]
  },
  {
   "cell_type": "code",
   "execution_count": 7,
   "id": "9572a627-516d-4573-a8d8-5fad583983a0",
   "metadata": {},
   "outputs": [],
   "source": [
    "tokenizer = Tokenizer(num_words = vocab_size, oov_token=oov_tok)\n",
    "tokenizer.fit_on_texts(X_train)\n",
    "word_index = tokenizer.word_index\n",
    "\n",
    "##training data-  sequences and labels\n",
    "train_seqs = tokenizer.texts_to_sequences(X_train)\n",
    "train_padded = pad_sequences(train_seqs,maxlen=max_length, truncating=trunc_type)\n",
    "\n",
    "##testing data - sequences and labels\n",
    "test_seqs = tokenizer.texts_to_sequences(X_test)\n",
    "test_padded = pad_sequences(test_seqs,maxlen=max_length)"
   ]
  },
  {
   "cell_type": "code",
   "execution_count": 8,
   "id": "81ea03be-767c-464d-a76c-3d4bd2c7e137",
   "metadata": {},
   "outputs": [],
   "source": [
    "enc = OneHotEncoder()\n",
    "train_label= enc.fit_transform(y_train).toarray()\n",
    "test_labels = enc.transform(y_test).toarray()"
   ]
  },
  {
   "cell_type": "code",
   "execution_count": 9,
   "id": "b9d7f12f-160d-46fc-918e-79b8cf721e8b",
   "metadata": {},
   "outputs": [
    {
     "data": {
      "text/plain": [
       "(array([[0., 0., 0., 1., 0.],\n",
       "        [1., 0., 0., 0., 0.],\n",
       "        [0., 0., 1., 0., 0.],\n",
       "        ...,\n",
       "        [0., 0., 1., 0., 0.],\n",
       "        [0., 1., 0., 0., 0.],\n",
       "        [0., 0., 0., 1., 0.]]),\n",
       " array([[0., 1., 0., 0., 0.],\n",
       "        [0., 0., 1., 0., 0.],\n",
       "        [0., 0., 1., 0., 0.],\n",
       "        ...,\n",
       "        [0., 1., 0., 0., 0.],\n",
       "        [0., 0., 0., 0., 1.],\n",
       "        [0., 1., 0., 0., 0.]]))"
      ]
     },
     "execution_count": 9,
     "metadata": {},
     "output_type": "execute_result"
    }
   ],
   "source": [
    "train_label, test_labels"
   ]
  },
  {
   "cell_type": "code",
   "execution_count": 10,
   "id": "24bd2f09-8650-4e6f-baa9-4ca324ff2518",
   "metadata": {},
   "outputs": [
    {
     "name": "stderr",
     "output_type": "stream",
     "text": [
      "2022-08-18 16:28:18.290239: I tensorflow/core/common_runtime/process_util.cc:146] Creating new thread pool with default inter op setting: 2. Tune using inter_op_parallelism_threads for best performance.\n"
     ]
    }
   ],
   "source": [
    "model = tf.keras.Sequential([\n",
    "    tf.keras.layers.Embedding(vocab_size, embedding_dim, input_length=max_length),\n",
    "    tf.keras.layers.Bidirectional(tf.keras.layers.LSTM(128, return_sequences=True)),\n",
    "    tf.keras.layers.Dropout(0.5),\n",
    "    tf.keras.layers.Bidirectional(tf.keras.layers.LSTM(64)),\n",
    "    tf.keras.layers.Dropout(0.5),\n",
    "    tf.keras.layers.Dense(32, activation='relu'),\n",
    "    tf.keras.layers.Dense(5, activation='softmax')\n",
    "])\n",
    "model.compile(loss='categorical_crossentropy',optimizer='adam',metrics=['accuracy'])"
   ]
  },
  {
   "cell_type": "code",
   "execution_count": 11,
   "id": "ede57f82-3440-4a09-ba0d-4d389bcea762",
   "metadata": {},
   "outputs": [
    {
     "name": "stdout",
     "output_type": "stream",
     "text": [
      "Epoch 1/10\n",
      "38/38 [==============================] - 47s 1s/step - loss: 1.5998 - accuracy: 0.2357 - val_loss: 1.5750 - val_accuracy: 0.2852\n",
      "Epoch 2/10\n",
      "38/38 [==============================] - 36s 949ms/step - loss: 1.4587 - accuracy: 0.3876 - val_loss: 1.3922 - val_accuracy: 0.3893\n",
      "Epoch 3/10\n",
      "38/38 [==============================] - 36s 962ms/step - loss: 1.2024 - accuracy: 0.4522 - val_loss: 1.3387 - val_accuracy: 0.4295\n",
      "Epoch 4/10\n",
      "38/38 [==============================] - 36s 960ms/step - loss: 1.0672 - accuracy: 0.5176 - val_loss: 1.1090 - val_accuracy: 0.5268\n",
      "Epoch 5/10\n",
      "38/38 [==============================] - 37s 982ms/step - loss: 0.7389 - accuracy: 0.6577 - val_loss: 1.2931 - val_accuracy: 0.4329\n",
      "Epoch 6/10\n",
      "38/38 [==============================] - 36s 956ms/step - loss: 0.6049 - accuracy: 0.7475 - val_loss: 1.8721 - val_accuracy: 0.3792\n",
      "Epoch 7/10\n",
      "38/38 [==============================] - 36s 948ms/step - loss: 0.6342 - accuracy: 0.7601 - val_loss: 1.3711 - val_accuracy: 0.5201\n",
      "Epoch 8/10\n",
      "38/38 [==============================] - 36s 960ms/step - loss: 0.3708 - accuracy: 0.8725 - val_loss: 1.5079 - val_accuracy: 0.5067\n",
      "Epoch 9/10\n",
      "38/38 [==============================] - 35s 914ms/step - loss: 0.2326 - accuracy: 0.9354 - val_loss: 1.5222 - val_accuracy: 0.5470\n",
      "Epoch 10/10\n",
      "38/38 [==============================] - 37s 981ms/step - loss: 0.1800 - accuracy: 0.9488 - val_loss: 1.7718 - val_accuracy: 0.5302\n"
     ]
    }
   ],
   "source": [
    "num_epochs = 10\n",
    "history = model.fit(\n",
    "    train_padded, \n",
    "    train_label, \n",
    "    epochs=num_epochs, \n",
    "    validation_data=(test_padded, test_labels)\n",
    "    )"
   ]
  },
  {
   "cell_type": "code",
   "execution_count": 12,
   "id": "7126b18a-08fb-4669-b1e7-7e28ae5e4b6b",
   "metadata": {},
   "outputs": [],
   "source": [
    "import matplotlib.pyplot as plt\n",
    "\n",
    "\n",
    "def plot_metric(history, metric):\n",
    "  plt.plot(history.history[metric])\n",
    "  plt.xlabel(\"Epochs\")\n",
    "  plt.ylabel(metric)\n",
    "  plt.show()"
   ]
  },
  {
   "cell_type": "code",
   "execution_count": 13,
   "id": "edbcd716-18f8-42bd-bd88-5a8d007427d4",
   "metadata": {},
   "outputs": [
    {
     "data": {
      "image/png": "[encoded data removed]",
      "text/plain": [
       "<Figure size 432x288 with 1 Axes>"
      ]
     },
     "metadata": {
      "needs_background": "light"
     },
     "output_type": "display_data"
    }
   ],
   "source": [
    "plot_metric(history, 'accuracy')"
   ]
  },
  {
   "cell_type": "code",
   "execution_count": 14,
   "id": "45b8f4f9-6579-4c1a-bde1-248de313aaed",
   "metadata": {},
   "outputs": [
    {
     "name": "stdout",
     "output_type": "stream",
     "text": [
      "1/1 [==============================] - 2s 2s/step\n",
      "[[1.9222520e-04 7.2096828e-03 5.0284490e-02 2.4680886e-04 9.4206673e-01]]\n"
     ]
    },
    {
     "data": {
      "text/plain": [
       "array([['tech']], dtype=object)"
      ]
     },
     "execution_count": 14,
     "metadata": {},
     "output_type": "execute_result"
    }
   ],
   "source": [
    "sentence = [X_test[0]]\n",
    "sequences = tokenizer.texts_to_sequences(sentence)\n",
    "padded = pad_sequences(sequences, maxlen=max_length, padding=padding_type, truncating=trunc_type)\n",
    "pred=model.predict(padded)\n",
    "print(pred)\n",
    "enc.inverse_transform(pred)"
   ]
  },
  {
   "cell_type": "code",
   "execution_count": 15,
   "id": "14d55918-de2a-4302-9a3e-ab38f301aa65",
   "metadata": {},
   "outputs": [
    {
     "data": {
      "text/plain": [
       "('wal-mart is sued over rude lyrics the parents of a 13-year-old girl are suing us supermarket giant wal-mart over a cd by rock group evanescence that contains swear words.  the lawsuit  filed in washington county  alleges wal-mart deceived customers by not putting warning labels on the cover. trevin skeens alleges wal-mart knew of the offending word because it had censored it on its music sales website. wal-mart said it was investigating the claims but had no plans to pull the cd. wal-mart has a policy of not stocking cds which carry parental advisory labels. mr skeens said he bought the anywhere but home cd for his daughter and was shocked to hear the swearing when it was played in their car.   i don t want any other families to get this  expecting it to be clean. it needs to be removed from the shelves to prevent other children from hearing it   said mr skeens of brownsville. the lawsuit seeks to force wal-mart to censor the music or remove it from its stores in maryland. it also seeks damages of up to $74 500 (£38 660) for every customer who bought the cd at maryland wal-marts  and also naming record label wind-up records and distributor bmg entertainment in the legal action.  while wal-mart sets high standards  it would not be possible to eliminate every image  word or topic that an individual might find objectionable   wal-mart spokesman guy whitcomb told the herald-mail of hagerstown.',\n",
       " array(['entertainment'], dtype=object))"
      ]
     },
     "execution_count": 15,
     "metadata": {},
     "output_type": "execute_result"
    }
   ],
   "source": [
    "X_test[0], y_test[0]"
   ]
  },
  {
   "cell_type": "code",
   "execution_count": null,
   "id": "d02c866a-2fd2-4023-8bde-7acd1eae1f32",
   "metadata": {},
   "outputs": [],
   "source": []
  }
 ],
 "metadata": {
  "environment": {
   "kernel": "python3",
   "name": "tf2-gpu.2-9.m95",
   "type": "gcloud",
   "uri": "gcr.io/deeplearning-platform-release/tf2-gpu.2-9:m95"
  },
  "kernelspec": {
   "display_name": "Python 3",
   "language": "python",
   "name": "python3"
  },
  "language_info": {
   "codemirror_mode": {
    "name": "ipython",
    "version": 3
   },
   "file_extension": ".py",
   "mimetype": "text/x-python",
   "name": "python",
   "nbconvert_exporter": "python",
   "pygments_lexer": "ipython3",
   "version": "3.7.12"
  }
 },
 "nbformat": 4,
 "nbformat_minor": 5
}
